{
 "cells": [
  {
   "cell_type": "code",
   "execution_count": 1,
   "id": "d13dae39",
   "metadata": {},
   "outputs": [
    {
     "name": "stderr",
     "output_type": "stream",
     "text": [
      "ERROR 1: PROJ: proj_create_from_database: Open of /home/jpalmo/.conda/envs/earthdata/share/proj failed\n"
     ]
    }
   ],
   "source": [
    "import xarray as xr\n",
    "import numpy as np\n",
    "import pandas as pd\n",
    "import netCDF4 as nc\n",
    "import dask\n",
    "import scipy\n",
    "import glob\n",
    "from tqdm import tqdm\n",
    "from datetime import datetime, timedelta\n",
    "import netCDF4 as nc\n",
    "from netCDF4 import Dataset\n",
    "import geopandas as gpd\n",
    "import os\n",
    "import skimage\n",
    "\n",
    "import seaborn as sns\n",
    "import matplotlib.colors as mcolors\n",
    "import matplotlib.pyplot as plt\n",
    "import cartopy.crs as ccrs\n",
    "import matplotlib.patches as mpatches\n",
    "\n",
    "from matplotlib.axes import Axes\n",
    "from cartopy.mpl.geoaxes import GeoAxes\n",
    "import cartopy.feature as cfeature\n",
    "from cartopy.mpl.gridliner import LONGITUDE_FORMATTER, LATITUDE_FORMATTER\n",
    "from cartopy.feature import NaturalEarthFeature\n",
    "import cartopy.io.img_tiles as cimgt\n",
    "from cartopy.io.img_tiles import Stamen\n",
    "from cartopy.io.img_tiles import MapboxTiles\n",
    "GeoAxes._pcolormesh_patched = Axes.pcolormesh\n",
    "\n",
    "import warnings\n",
    "warnings.filterwarnings(\"ignore\")\n",
    "\n",
    "import imageio\n",
    "import geojson\n",
    "import requests\n",
    "\n",
    "from scipy.optimize import curve_fit\n",
    "import matplotlib as mpl\n",
    "from matplotlib import font_manager as fm\n",
    "\n",
    "%matplotlib inline"
   ]
  },
  {
   "cell_type": "markdown",
   "id": "5608e1aa",
   "metadata": {},
   "source": [
    "### Load Data"
   ]
  },
  {
   "cell_type": "code",
   "execution_count": 21,
   "id": "13de7b58",
   "metadata": {},
   "outputs": [],
   "source": [
    "detections_df = pd.read_csv('data/detections_final.csv',)\n",
    "detections_df['timestamp'] = pd.to_datetime(detections_df['Launch_JD'], unit='D', origin='julian')\n",
    "\n",
    "initial_detections_df = pd.read_csv('data/initial_detections.csv',)\n",
    "initial_detections_df['timestamp'] = pd.to_datetime(initial_detections_df['Launch_JD'], unit='D', origin='julian')"
   ]
  },
  {
   "cell_type": "markdown",
   "id": "9d569107",
   "metadata": {},
   "source": [
    "# Plume Processing"
   ]
  },
  {
   "cell_type": "code",
   "execution_count": 3,
   "id": "b6d8e0a0",
   "metadata": {},
   "outputs": [
    {
     "name": "stdout",
     "output_type": "stream",
     "text": [
      "Fitted parameters: A = 13554.012467583758, k = 0.424470886399612\n"
     ]
    }
   ],
   "source": [
    "# multi_detections_df['time_delta_min'] = multi_detections_df['L2_time_delta'].astype('timedelta64[ns]').dt.total_seconds() / 60\n",
    "falcon_9 = detections_df[detections_df['LV_Type'] == 'Falcon 9']\n",
    "falcon_9 = falcon_9[falcon_9['ime']<4000]\n",
    "tmp = falcon_9[(falcon_9['ime'] < 10000)]\n",
    "tmp = tmp[tmp['time_delta_min'] < 1000]\n",
    "# Ensure timezone-aware UTC\n",
    "tmp['timestamp'] = pd.to_datetime(tmp['timestamp'], utc=True)\n",
    "\n",
    "# Define exponential decay model\n",
    "def exp_decay(t, A, k):\n",
    "    return A * np.exp(-k * t)\n",
    "\n",
    "tmp = tmp[tmp['time_delta_min'] > 0.5]\n",
    "# print(tmp[(tmp['enhancement_molno2']/1000) > 26])\n",
    "tmp = tmp[(tmp['enhancement_molno2']/1000) < 26]\n",
    "# remove index 56\n",
    "# print(tmp.loc[56])\n",
    "# print(tmp.loc[47])\n",
    "# tmp = tmp[tmp.index != 56]\n",
    "# tmp = tmp[tmp.index != 47]\n",
    "\n",
    "# Fit model to data\n",
    "time_values = tmp['time_delta_min'].values / 60\n",
    "no2_values = tmp['enhancement_molno2'].values\n",
    "valid = no2_values > 0  # avoid zeros for fitting\n",
    "popt, pcov = curve_fit(exp_decay, time_values[valid], no2_values[valid], p0=(20000, 0.01))\n",
    "\n",
    "A_fit, k_fit = popt\n",
    "perr = np.sqrt(np.diag(pcov))  # standard deviation (1σ uncertainty) of each parameter\n",
    "A_err, k_err = perr\n",
    "\n",
    "# Predict NO₂ using the fitted curve\n",
    "t_fit = np.linspace(0, time_values.max(), 200)\n",
    "print(f\"Fitted parameters: A = {A_fit}, k = {k_fit}\")\n",
    "no2_fit = exp_decay(t_fit, A_fit, k_fit)\n",
    "\n",
    "# Sample parameters from the multivariate normal\n",
    "samples = np.random.multivariate_normal(popt, pcov, size=1000)\n",
    "\n",
    "# Evaluate model for each sample\n",
    "y_samples = np.array([exp_decay(t_fit, *params) for params in samples])\n",
    "\n",
    "# Get percentiles for confidence interval\n",
    "y_lower = np.percentile(y_samples, 2.5, axis=0)/1000\n",
    "y_upper = np.percentile(y_samples, 97.5, axis=0)/1000"
   ]
  },
  {
   "cell_type": "markdown",
   "id": "7ddf6e03",
   "metadata": {},
   "source": [
    "## Error in time"
   ]
  },
  {
   "cell_type": "code",
   "execution_count": 5,
   "id": "8704a93e",
   "metadata": {},
   "outputs": [],
   "source": [
    "time_axis = np.linspace(0, 200, 200) / 60\n",
    "ppf_axis = np.exp(k_fit * time_axis)"
   ]
  },
  {
   "cell_type": "code",
   "execution_count": 8,
   "id": "aca29971",
   "metadata": {},
   "outputs": [
    {
     "data": {
      "text/plain": [
       "Text(0, 0.5, '$\\\\sigma$')"
      ]
     },
     "execution_count": 8,
     "metadata": {},
     "output_type": "execute_result"
    },
    {
     "data": {
      "image/png": "[encoded data removed]",
      "text/plain": [
       "<Figure size 600x400 with 1 Axes>"
      ]
     },
     "metadata": {},
     "output_type": "display_data"
    }
   ],
   "source": [
    "n_samples = 1000\n",
    "k_samples = np.random.normal(k_fit, k_err, size=n_samples)\n",
    "ppf_samples = np.array([np.exp(k * time_axis) for k in k_samples])\n",
    "\n",
    "# 95% confidence interval\n",
    "ppf_lower = np.percentile(ppf_samples, 2.5, axis=0)\n",
    "ppf_upper = np.percentile(ppf_samples, 97.5, axis=0)\n",
    "ppf_axis = np.exp(k_fit * time_axis)\n",
    "\n",
    "fig, ax = plt.subplots(figsize=(3, 2), dpi=200)\n",
    "\n",
    "plt.plot(time_axis, ppf_axis, label='Processing factor', color='salmon')\n",
    "plt.fill_between(time_axis, ppf_lower, ppf_upper, alpha=0.3, label='95% CI from $k$', color='salmon')\n",
    "\n",
    "plt.ylim(-2,25)\n",
    "\n",
    "plt.xlabel('$\\Delta t$ (hr)')\n",
    "plt.ylabel('$\\sigma$')"
   ]
  },
  {
   "cell_type": "code",
   "execution_count": 36,
   "id": "88661b26",
   "metadata": {},
   "outputs": [
    {
     "data": {
      "text/plain": [
       "0.004104391400550202"
      ]
     },
     "execution_count": 36,
     "metadata": {},
     "output_type": "execute_result"
    }
   ],
   "source": [
    "k_err / 60"
   ]
  },
  {
   "cell_type": "code",
   "execution_count": 9,
   "id": "4228de31",
   "metadata": {},
   "outputs": [
    {
     "data": {
      "text/plain": [
       "[<matplotlib.lines.Line2D at 0x14b31dba0700>]"
      ]
     },
     "execution_count": 9,
     "metadata": {},
     "output_type": "execute_result"
    },
    {
     "data": {
      "image/png": "[encoded data removed]",
      "text/plain": [
       "<Figure size 640x480 with 1 Axes>"
      ]
     },
     "metadata": {},
     "output_type": "display_data"
    }
   ],
   "source": [
    "relative_ppf_error = time_axis * k_err\n",
    "\n",
    "plt.plot(time_axis, relative_ppf_error, label='Relative error in processing factor')"
   ]
  },
  {
   "cell_type": "code",
   "execution_count": 18,
   "id": "ee0fdb5d",
   "metadata": {},
   "outputs": [],
   "source": [
    "error_in_lifetime_30min = relative_ppf_error[30]"
   ]
  },
  {
   "cell_type": "code",
   "execution_count": 25,
   "id": "85045b09",
   "metadata": {},
   "outputs": [
    {
     "data": {
      "text/plain": [
       "0.1237504944889508"
      ]
     },
     "execution_count": 25,
     "metadata": {},
     "output_type": "execute_result"
    }
   ],
   "source": [
    "error_in_lifetime_30min"
   ]
  },
  {
   "cell_type": "markdown",
   "id": "6a157a20",
   "metadata": {},
   "source": [
    "### Error in L"
   ]
  },
  {
   "cell_type": "code",
   "execution_count": 24,
   "id": "2aba8d45",
   "metadata": {},
   "outputs": [],
   "source": [
    "error_in_L = initial_detections_df['L'].std() / initial_detections_df['L'].mean()"
   ]
  },
  {
   "cell_type": "code",
   "execution_count": 26,
   "id": "01077e5b",
   "metadata": {},
   "outputs": [
    {
     "data": {
      "text/plain": [
       "0.33372177405757425"
      ]
     },
     "execution_count": 26,
     "metadata": {},
     "output_type": "execute_result"
    }
   ],
   "source": [
    "error_in_L"
   ]
  },
  {
   "cell_type": "markdown",
   "id": "b4ddf487",
   "metadata": {},
   "source": [
    "### Error in satellite product"
   ]
  },
  {
   "cell_type": "code",
   "execution_count": 27,
   "id": "dc478e1e",
   "metadata": {},
   "outputs": [
    {
     "data": {
      "text/plain": [
       "0.3"
      ]
     },
     "execution_count": 27,
     "metadata": {},
     "output_type": "execute_result"
    }
   ],
   "source": [
    "error_in_tempo = 0.3\n",
    "error_in_tempo"
   ]
  },
  {
   "cell_type": "markdown",
   "id": "bd1ea702",
   "metadata": {},
   "source": [
    "## Add errors in quadrature"
   ]
  },
  {
   "cell_type": "code",
   "execution_count": 33,
   "id": "682dd323",
   "metadata": {},
   "outputs": [],
   "source": [
    "total_error = np.sqrt(error_in_tempo**2 + error_in_L**2 + error_in_lifetime_30min**2)"
   ]
  },
  {
   "cell_type": "code",
   "execution_count": 34,
   "id": "b6474a82",
   "metadata": {},
   "outputs": [
    {
     "data": {
      "text/plain": [
       "0.4654937243039851"
      ]
     },
     "execution_count": 34,
     "metadata": {},
     "output_type": "execute_result"
    }
   ],
   "source": [
    "total_error"
   ]
  },
  {
   "cell_type": "code",
   "execution_count": 37,
   "id": "1ed7bb02",
   "metadata": {},
   "outputs": [
    {
     "data": {
      "text/plain": [
       "996.1565700105282"
      ]
     },
     "execution_count": 37,
     "metadata": {},
     "output_type": "execute_result"
    }
   ],
   "source": [
    "2140 * total_error"
   ]
  },
  {
   "cell_type": "code",
   "execution_count": null,
   "id": "512f5e68",
   "metadata": {},
   "outputs": [],
   "source": []
  }
 ],
 "metadata": {
  "kernelspec": {
   "display_name": "earthdata",
   "language": "python",
   "name": "python3"
  },
  "language_info": {
   "codemirror_mode": {
    "name": "ipython",
    "version": 3
   },
   "file_extension": ".py",
   "mimetype": "text/x-python",
   "name": "python",
   "nbconvert_exporter": "python",
   "pygments_lexer": "ipython3",
   "version": "3.10.14"
  }
 },
 "nbformat": 4,
 "nbformat_minor": 5
}
